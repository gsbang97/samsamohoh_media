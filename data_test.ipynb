{
 "cells": [
  {
   "cell_type": "code",
   "execution_count": 25,
   "metadata": {},
   "outputs": [],
   "source": [
    "import math\n",
    "import cv2\n",
    "import mediapipe as mp\n",
    "import matplotlib.pyplot as plt\n",
    "import numpy as np\n",
    "import pandas as pd"
   ]
  },
  {
   "cell_type": "code",
   "execution_count": 26,
   "metadata": {},
   "outputs": [],
   "source": [
    "# 미디어 파이프의 그리기 유틸리티 및 스타일을 가져옵니다.\n",
    "mp_drawing = mp.solutions.drawing_utils\n",
    "mp_drawing_styles = mp.solutions.drawing_styles\n",
    "# 미디어 파이프의 포즈 솔루션을 가져옵니다.\n",
    "mp_pose = mp.solutions.pose"
   ]
  },
  {
   "cell_type": "code",
   "execution_count": 27,
   "metadata": {},
   "outputs": [],
   "source": [
    "def calculate_length(p1 :tuple[int,int] , p2:tuple[int,int]) -> float:\n",
    "    \"\"\"\n",
    "    두 점 사이의 거리를 계산합니다. (유클라디안 거리)\n",
    "    :param p1: 첫 번째 점 (x, y)\n",
    "    :param p2: 두 번째 점 (x, y)\n",
    "    :return: 두 점 사이의 거리\n",
    "    \"\"\"\n",
    "    x1, y1 = p1\n",
    "    x2, y2 = p2\n",
    "    return math.sqrt((x1 - x2) ** 2 + (y1 - y2) ** 2)\n",
    "\n"
   ]
  },
  {
   "cell_type": "code",
   "execution_count": 28,
   "metadata": {},
   "outputs": [],
   "source": [
    "def calculate_angle(p1:tuple[int,int], p2:tuple[int,int], p3:tuple[int,int]):\n",
    "    \"\"\"\n",
    "    삼각형의 세 점 사이의 각도를 계산합니다.\n",
    "    :param p1: 첫 번째 점 (x, y)\n",
    "    :param p2: 두 번째 점 (x, y)\n",
    "    :param p3: 세 번째 점 (x, y)\n",
    "    :return: 삼각형의 세 점 사이의 각도 ∠p1p2p3\n",
    "    \"\"\"\n",
    "    # 삼각형의 세 점 사이의 각도를 계산합니다.\n",
    "    a = calculate_length(p1, p2)\n",
    "    b = calculate_length(p2, p3)\n",
    "    c = calculate_length(p3, p1)\n",
    "    # 코사인 법칙을 사용하여 각도를 계산합니다.\n",
    "    # ∠abc = arccos((a² + b² - c²) / 2ab)\n",
    "    if a == 0 or b == 0:\n",
    "        return 0\n",
    "    return math.degrees(math.acos((a ** 2 + b ** 2 - c ** 2) / (2 * a * b)))"
   ]
  },
  {
   "cell_type": "code",
   "execution_count": 29,
   "metadata": {},
   "outputs": [],
   "source": [
    "\n",
    "def get_landmark_coordinates(landmark, width, height) -> tuple[float,float]:\n",
    "    \"\"\"\n",
    "    랜드마크의 좌표를 계산합니다.\n",
    "    :param landmark: 랜드마크\n",
    "    :param width: 이미지의 너비\n",
    "    :param height: 이미지의 높이\n",
    "    :return: 랜드마크의 좌표 (x, y)\n",
    "    \"\"\"\n",
    "    return (landmark.x * width), (landmark.y * height)"
   ]
  },
  {
   "cell_type": "code",
   "execution_count": 30,
   "metadata": {},
   "outputs": [],
   "source": [
    "def process_frame(image, pose) -> tuple[np.ndarray, mp_pose.PoseLandmark, int, int]:\n",
    "    \"\"\"\n",
    "    비디오의 단일 프레임을 처리합니다.\n",
    "    :param image: 처리할 이미지\n",
    "    :param pose: 포즈 모델\n",
    "    :return: 포즈 랜드마크가 그려진 이미지\n",
    "    \"\"\"\n",
    "    height, width, _ = image.shape\n",
    "    image.flags.writeable = False\n",
    "    image = cv2.cvtColor(image, cv2.COLOR_BGR2RGB)\n",
    "    results = pose.process(image)\n",
    "    image.flags.writeable = True\n",
    "    image = cv2.cvtColor(image, cv2.COLOR_RGB2BGR)\n",
    "    mp_drawing.draw_landmarks(\n",
    "        image,\n",
    "        results.pose_landmarks,\n",
    "        mp_pose.POSE_CONNECTIONS,\n",
    "        landmark_drawing_spec=mp_drawing_styles.get_default_pose_landmarks_style()\n",
    "    )\n",
    "\n",
    "    return image, results.pose_landmarks, width, height"
   ]
  },
  {
   "cell_type": "code",
   "execution_count": null,
   "metadata": {},
   "outputs": [],
   "source": []
  },
  {
   "cell_type": "code",
   "execution_count": 31,
   "metadata": {},
   "outputs": [],
   "source": [
    "randmark_angle = {\n",
    "    'left_elbow_angle':(11,13,15),\n",
    "    'right_elbow_angle':(12,14,16),\n",
    "    'left_wrist_angle':(13,15,17),\n",
    "    'right_wrist_angle':(14,16,18),\n",
    "    'left_shoulder_angle':(23,11,13),\n",
    "    'right_shoulder_angle':(24,12,14),\n",
    "    'hip_angle':(23,24,26),\n",
    "    'waist_angle':(23,11,24),\n",
    "    'left_knee_angle':(23,25,27),\n",
    "    'right_knee_angle':(24,26,28),\n",
    "    'left_ankle_angle':(25,27,29),\n",
    "    'right_ankle_angle':(26,28,30)\n",
    "}"
   ]
  },
  {
   "cell_type": "code",
   "execution_count": 32,
   "metadata": {},
   "outputs": [
    {
     "name": "stdout",
     "output_type": "stream",
     "text": [
      "비디오를 읽을 수 없습니다.\n"
     ]
    }
   ],
   "source": [
    "\n",
    "# csv 파일 불러오기\n",
    "ex_range = pd.read_csv('./data/periodic_landmark_ranges.csv').values.tolist()\n",
    "VIDEO_PATH = './videos/pushup.mp4'\n",
    "VIDEO_PATH = './videos/Standard.MOV'\n",
    "cap = cv2.VideoCapture(VIDEO_PATH)\n",
    "# cap = cv2.VideoCapture(0)\n",
    "count = 0\n",
    "\n",
    "is_started = False\n",
    "with mp_pose.Pose(min_detection_confidence=0.5, min_tracking_confidence=0.5) as pose:\n",
    "    while cap.isOpened():\n",
    "        success, frame = cap.read()\n",
    "        if not success:\n",
    "            print(\"비디오를 읽을 수 없습니다.\")\n",
    "            break\n",
    "        image = cv2.cvtColor(frame, cv2.COLOR_BGR2RGB)\n",
    "        image.flags.writeable = False\n",
    "        results = pose.process(image)\n",
    "        height, width, _ = image.shape\n",
    "        if results.pose_landmarks:\n",
    "            landmarks = results.pose_landmarks.landmark\n",
    "            mp_drawing.draw_landmarks(frame, results.pose_landmarks, mp_pose.POSE_CONNECTIONS)\n",
    "            for i, (name, angle_range) in  enumerate(ex_range):\n",
    "                (MAX_ANGLE, MIN_ANGLE) = eval(angle_range)\n",
    "                MAX_ANGLE = MAX_ANGLE + (MAX_ANGLE-MIN_ANGLE)*0.05\n",
    "                MIN_ANGLE = MIN_ANGLE - (MAX_ANGLE-MIN_ANGLE)*0.05\n",
    "                a,b,c = randmark_angle[name]\n",
    "                x,y = get_landmark_coordinates(landmarks[b],width,height)\n",
    "                # print(x,y)\n",
    "                # print()\n",
    "                \n",
    "\n",
    "                angle = calculate_angle(get_landmark_coordinates(landmarks[a],width,height),get_landmark_coordinates(landmarks[b],width,height),get_landmark_coordinates(landmarks[c],width,height))\n",
    "                # 설정된 각도 범위에 따라 색상을 결정합니다. (초록색: 정상, 빨간색: 비정상)\n",
    "                color = (0, 255, 0) if MIN_ANGLE <= angle <= MAX_ANGLE else (0, 0, 255)\n",
    "                # cv2.putText(frame, str(int(angle)), (x,y), cv2.FONT_HERSHEY_SIMPLEX, 1.0, color, 2, cv2.LINE_AA)\n",
    "\n",
    "                cv2.putText(frame, f\"{name}: {int(angle)}\", (50,30+ 20*i), cv2.FONT_HERSHEY_SIMPLEX, 0.5, color, 1, cv2.LINE_AA)\n",
    "                if MIN_ANGLE > angle or angle > MAX_ANGLE:\n",
    "                    cv2.putText(frame, str(int(angle)), (x,y), cv2.FONT_HERSHEY_SIMPLEX, 1, (0,0,255), 2, cv2.LINE_AA)\n",
    "            # # 각도를 통해 운동 횟수를 카운트합니다.\n",
    "            # if left_angle < START_ANGLE and right_angle < START_ANGLE:\n",
    "            #     is_started = True\n",
    "            # if is_started and left_angle > END_ANGLE and right_angle > END_ANGLE:\n",
    "            #     is_started = False\n",
    "            #     count += 1\n",
    "\n",
    "            \n",
    "            \n",
    "\n",
    "            # # 카운트를 이미지에 표시합니다.\n",
    "            # cv2.putText(frame, f\"count: {count}\", (50, 50), cv2.FONT_HERSHEY_SIMPLEX, 1.0, (0, 0, 255), 2, cv2.LINE_AA)\n",
    "        # 결과 이미지를 표시합니다.    \n",
    "        cv2.imshow('MediaPipe Pose', frame)\n",
    "        # ESC 키를 누르면 종료합니다.\n",
    "        if cv2.waitKey(1) & 0xFF == 27:\n",
    "            break\n",
    "    cap.release()\n",
    "# exit()"
   ]
  }
 ],
 "metadata": {
  "kernelspec": {
   "display_name": "venv",
   "language": "python",
   "name": "python3"
  },
  "language_info": {
   "codemirror_mode": {
    "name": "ipython",
    "version": 3
   },
   "file_extension": ".py",
   "mimetype": "text/x-python",
   "name": "python",
   "nbconvert_exporter": "python",
   "pygments_lexer": "ipython3",
   "version": "3.9.6"
  },
  "orig_nbformat": 4
 },
 "nbformat": 4,
 "nbformat_minor": 2
}
