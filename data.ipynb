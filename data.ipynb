{
 "cells": [
  {
   "cell_type": "code",
   "execution_count": 31,
   "metadata": {
    "collapsed": true,
    "pycharm": {
     "is_executing": true
    }
   },
   "outputs": [],
   "source": [
    "import cv2\n",
    "import mediapipe as mp\n",
    "import mediapipe.tasks.python.components.containers\n",
    "import numpy as np\n",
    "import pandas as pd\n",
    "from statsmodels.tsa.statespace.sarimax import SARIMAX\n",
    "from statsmodels.tsa.stattools import adfuller\n",
    "from itertools import product\n",
    "import math"
   ]
  },
  {
   "cell_type": "code",
   "execution_count": null,
   "metadata": {},
   "outputs": [],
   "source": [
    "\n",
    "def calculate_length(p1 :tuple[int,int] , p2:tuple[int,int]) -> float:\n",
    "    \"\"\"\n",
    "    두 점 사이의 거리를 계산합니다. (유클라디안 거리)\n",
    "    :param p1: 첫 번째 점 (x, y)\n",
    "    :param p2: 두 번째 점 (x, y)\n",
    "    :return: 두 점 사이의 거리\n",
    "    \"\"\"\n",
    "    x1, y1 = p1\n",
    "    x2, y2 = p2\n",
    "    return math.sqrt((x1 - x2) ** 2 + (y1 - y2) ** 2)\n",
    "\n",
    "def calculate_angle(p1:tuple[int,int], p2:tuple[int,int], p3:tuple[int,int]):\n",
    "    \"\"\"\n",
    "    삼각형의 세 점 사이의 각도를 계산합니다.\n",
    "    :param p1: 첫 번째 점 (x, y)\n",
    "    :param p2: 두 번째 점 (x, y)\n",
    "    :param p3: 세 번째 점 (x, y)\n",
    "    :return: 삼각형의 세 점 사이의 각도 ∠p1p2p3\n",
    "    \"\"\"\n",
    "    # 삼각형의 세 점 사이의 각도를 계산합니다.\n",
    "    a = calculate_length(p1, p2)\n",
    "    b = calculate_length(p2, p3)\n",
    "    c = calculate_length(p3, p1)\n",
    "    # 코사인 법칙을 사용하여 각도를 계산합니다.\n",
    "    # ∠abc = arccos((a² + b² - c²) / 2ab)\n",
    "    return math.degrees(math.acos((a ** 2 + b ** 2 - c ** 2) / (2 * a * b)))"
   ]
  },
  {
   "cell_type": "code",
   "execution_count": 45,
   "metadata": {
    "collapsed": false
   },
   "outputs": [],
   "source": [
    "# 1. 미디어파이프를 사용하여 비디오에서 스켈레톤 구조 추출하기\n",
    "mp_drawing = mp.solutions.drawing_utils\n",
    "mp_pose = mp.solutions.pose\n",
    "\n",
    "cap = cv2.VideoCapture('./videos/Standard.MOV')  # 비디오 파일 경로\n",
    "fps = int(cap.get(cv2.CAP_PROP_FPS))\n",
    "pose_data = []\n",
    "# cnt = 0\n",
    "with mp_pose.Pose(min_detection_confidence=0.5, min_tracking_confidence=0.5) as pose:\n",
    "    while cap.isOpened():\n",
    "        # if cnt == 100:\n",
    "        #     break\n",
    "        # cnt += 1\n",
    "        ret, frame = cap.read()\n",
    "        if not ret:\n",
    "            break\n",
    "        \n",
    "        image = cv2.cvtColor(frame, cv2.COLOR_BGR2RGB)\n",
    "        image.flags.writeable = False\n",
    "        results = pose.process(image)\n",
    "        height, width, _ = image.shape\n",
    "        if results.pose_landmarks:\n",
    "            landmarks = results.pose_landmarks.landmark\n",
    "        \n",
    "            pose_data.append([landmark.x * width for landmark in landmarks[11:17]]+[landmark.x *width for landmark in landmarks[23:29]]+[landmark.y * height for landmark in landmarks[11:17]]+[landmark.y * height for landmark in landmarks[23:29]])\n",
    "\n",
    "\n",
    "\n",
    "cap.release()\n",
    "\n",
    "\n"
   ]
  },
  {
   "cell_type": "code",
   "execution_count": 46,
   "metadata": {
    "collapsed": false
   },
   "outputs": [],
   "source": [
    "pose_landmark_names = [\n",
    "    'right_shoulder',\n",
    "    'left_shoulder',\n",
    "    'right_elbow',\n",
    "    'left_elbow',\n",
    "    'right_wrist',\n",
    "    'left_wrist',\n",
    "    'right_hip',\n",
    "    'left_hip',\n",
    "    'right_knee',\n",
    "    'left_knee',\n",
    "    'right_ankle',\n",
    "    'left_ankle',\n",
    "]\n",
    "# 2. 시계열 데이터로 변환\n",
    "pose_df = pd.DataFrame(pose_data)\n",
    "pose_df.columns = [ x+'_x' for x in pose_landmark_names] + [ x+'_y' for x in pose_landmark_names]"
   ]
  },
  {
   "cell_type": "code",
   "execution_count": 48,
   "metadata": {},
   "outputs": [],
   "source": [
    "pose_df.to_csv('./data/pose.csv', index=False)"
   ]
  },
  {
   "cell_type": "code",
   "execution_count": 47,
   "metadata": {},
   "outputs": [
    {
     "name": "stdout",
     "output_type": "stream",
     "text": [
      "   right_shoulder_x  left_shoulder_x  right_elbow_x  left_elbow_x  \\\n",
      "0        326.713257       335.876045     281.326351    297.142429   \n",
      "1        326.521835       335.013657     281.462822    299.960995   \n",
      "2        326.336670       333.814774     281.598148    299.712334   \n",
      "3        326.423492       332.806549     281.877861    299.532833   \n",
      "4        326.775627       331.547966     282.294273    297.512875   \n",
      "\n",
      "   right_wrist_x  left_wrist_x  right_hip_x  left_hip_x  right_knee_x  \\\n",
      "0     285.878410    291.449547   384.745407  382.533302    332.834625   \n",
      "1     284.959755    292.153320   387.052879  383.548698    332.837715   \n",
      "2     284.768581    292.077789   388.151016  383.777428    332.851524   \n",
      "3     284.715481    291.741219   388.992500  383.780823    332.853355   \n",
      "4     284.705696    291.265316   389.641228  383.738480    332.853622   \n",
      "\n",
      "   left_knee_x  ...  right_elbow_y  left_elbow_y  right_wrist_y  left_wrist_y  \\\n",
      "0   335.232658  ...     196.759515    195.174415     172.748852    174.017000   \n",
      "1   334.975052  ...     198.606613    198.058369     173.461043    176.838866   \n",
      "2   334.767761  ...     200.232568    199.354455     174.197330    177.404158   \n",
      "3   334.574738  ...     201.805780    201.607769     175.113444    178.515247   \n",
      "4   333.967667  ...     202.918339    202.817509     175.977523    179.571608   \n",
      "\n",
      "   right_hip_y  left_hip_y  right_knee_y  left_knee_y  right_ankle_y  \\\n",
      "0   232.691202  229.588766    252.098057   246.507776     313.780067   \n",
      "1   233.176146  230.170677    251.395361   247.069838     313.868773   \n",
      "2   234.531326  231.076555    251.000068   247.277226     313.959110   \n",
      "3   236.333663  232.209070    250.751824   247.337244     314.097898   \n",
      "4   237.645714  233.650961    250.710733   247.962713     314.204135   \n",
      "\n",
      "   left_ankle_y  \n",
      "0    304.609551  \n",
      "1    303.650458  \n",
      "2    302.917550  \n",
      "3    302.115870  \n",
      "4    302.094476  \n",
      "\n",
      "[5 rows x 24 columns]\n"
     ]
    }
   ],
   "source": [
    "print(pose_df.head())"
   ]
  }
 ],
 "metadata": {
  "kernelspec": {
   "display_name": "Python 3",
   "language": "python",
   "name": "python3"
  },
  "language_info": {
   "codemirror_mode": {
    "name": "ipython",
    "version": 3
   },
   "file_extension": ".py",
   "mimetype": "text/x-python",
   "name": "python",
   "nbconvert_exporter": "python",
   "pygments_lexer": "ipython3",
   "version": "3.9.6"
  }
 },
 "nbformat": 4,
 "nbformat_minor": 0
}
